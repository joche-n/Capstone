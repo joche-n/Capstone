{
 "cells": [
  {
   "cell_type": "markdown",
   "id": "ced30fe8",
   "metadata": {},
   "source": [
    "xxx yolos\n",
    "\n",
    "what do we need for yolo?\n",
    "get all the labeld images?\n",
    "\n",
    "transfrome labels?\n",
    "\n",
    "weights?\n"
   ]
  },
  {
   "cell_type": "code",
   "execution_count": 16,
   "id": "a479f0ec",
   "metadata": {},
   "outputs": [
    {
     "name": "stdout",
     "output_type": "stream",
     "text": [
      "Collecting datasets\n",
      "  Downloading datasets-3.5.1-py3-none-any.whl.metadata (19 kB)\n",
      "Requirement already satisfied: filelock in ./.venv/lib/python3.11/site-packages (from datasets) (3.18.0)\n",
      "Requirement already satisfied: numpy>=1.17 in ./.venv/lib/python3.11/site-packages (from datasets) (2.2.5)\n",
      "Collecting pyarrow>=15.0.0 (from datasets)\n",
      "  Downloading pyarrow-20.0.0-cp311-cp311-manylinux_2_28_x86_64.whl.metadata (3.3 kB)\n",
      "Collecting dill<0.3.9,>=0.3.0 (from datasets)\n",
      "  Downloading dill-0.3.8-py3-none-any.whl.metadata (10 kB)\n",
      "Requirement already satisfied: pandas in ./.venv/lib/python3.11/site-packages (from datasets) (2.2.3)\n",
      "Requirement already satisfied: requests>=2.32.2 in ./.venv/lib/python3.11/site-packages (from datasets) (2.32.3)\n",
      "Requirement already satisfied: tqdm>=4.66.3 in ./.venv/lib/python3.11/site-packages (from datasets) (4.67.1)\n",
      "Collecting xxhash (from datasets)\n",
      "  Downloading xxhash-3.5.0-cp311-cp311-manylinux_2_17_x86_64.manylinux2014_x86_64.whl.metadata (12 kB)\n",
      "Collecting multiprocess<0.70.17 (from datasets)\n",
      "  Downloading multiprocess-0.70.16-py311-none-any.whl.metadata (7.2 kB)\n",
      "Collecting fsspec<=2025.3.0,>=2023.1.0 (from fsspec[http]<=2025.3.0,>=2023.1.0->datasets)\n",
      "  Downloading fsspec-2025.3.0-py3-none-any.whl.metadata (11 kB)\n",
      "Collecting aiohttp (from datasets)\n",
      "  Downloading aiohttp-3.11.18-cp311-cp311-manylinux_2_17_x86_64.manylinux2014_x86_64.whl.metadata (7.7 kB)\n",
      "Requirement already satisfied: huggingface-hub>=0.24.0 in ./.venv/lib/python3.11/site-packages (from datasets) (0.30.2)\n",
      "Requirement already satisfied: packaging in ./.venv/lib/python3.11/site-packages (from datasets) (25.0)\n",
      "Requirement already satisfied: pyyaml>=5.1 in ./.venv/lib/python3.11/site-packages (from datasets) (6.0.2)\n",
      "Collecting aiohappyeyeballs>=2.3.0 (from aiohttp->datasets)\n",
      "  Using cached aiohappyeyeballs-2.6.1-py3-none-any.whl.metadata (5.9 kB)\n",
      "Collecting aiosignal>=1.1.2 (from aiohttp->datasets)\n",
      "  Using cached aiosignal-1.3.2-py2.py3-none-any.whl.metadata (3.8 kB)\n",
      "Collecting attrs>=17.3.0 (from aiohttp->datasets)\n",
      "  Using cached attrs-25.3.0-py3-none-any.whl.metadata (10 kB)\n",
      "Collecting frozenlist>=1.1.1 (from aiohttp->datasets)\n",
      "  Downloading frozenlist-1.6.0-cp311-cp311-manylinux_2_5_x86_64.manylinux1_x86_64.manylinux_2_17_x86_64.manylinux2014_x86_64.whl.metadata (16 kB)\n",
      "Collecting multidict<7.0,>=4.5 (from aiohttp->datasets)\n",
      "  Downloading multidict-6.4.3-cp311-cp311-manylinux_2_17_x86_64.manylinux2014_x86_64.whl.metadata (5.3 kB)\n",
      "Collecting propcache>=0.2.0 (from aiohttp->datasets)\n",
      "  Using cached propcache-0.3.1-cp311-cp311-manylinux_2_17_x86_64.manylinux2014_x86_64.whl.metadata (10 kB)\n",
      "Collecting yarl<2.0,>=1.17.0 (from aiohttp->datasets)\n",
      "  Downloading yarl-1.20.0-cp311-cp311-manylinux_2_17_x86_64.manylinux2014_x86_64.whl.metadata (72 kB)\n",
      "Requirement already satisfied: typing-extensions>=3.7.4.3 in ./.venv/lib/python3.11/site-packages (from huggingface-hub>=0.24.0->datasets) (4.13.2)\n",
      "Requirement already satisfied: charset-normalizer<4,>=2 in ./.venv/lib/python3.11/site-packages (from requests>=2.32.2->datasets) (3.4.1)\n",
      "Requirement already satisfied: idna<4,>=2.5 in ./.venv/lib/python3.11/site-packages (from requests>=2.32.2->datasets) (3.10)\n",
      "Requirement already satisfied: urllib3<3,>=1.21.1 in ./.venv/lib/python3.11/site-packages (from requests>=2.32.2->datasets) (2.4.0)\n",
      "Requirement already satisfied: certifi>=2017.4.17 in ./.venv/lib/python3.11/site-packages (from requests>=2.32.2->datasets) (2025.1.31)\n",
      "Requirement already satisfied: python-dateutil>=2.8.2 in ./.venv/lib/python3.11/site-packages (from pandas->datasets) (2.9.0.post0)\n",
      "Requirement already satisfied: pytz>=2020.1 in ./.venv/lib/python3.11/site-packages (from pandas->datasets) (2025.2)\n",
      "Requirement already satisfied: tzdata>=2022.7 in ./.venv/lib/python3.11/site-packages (from pandas->datasets) (2025.2)\n",
      "Requirement already satisfied: six>=1.5 in ./.venv/lib/python3.11/site-packages (from python-dateutil>=2.8.2->pandas->datasets) (1.17.0)\n",
      "Downloading datasets-3.5.1-py3-none-any.whl (491 kB)\n",
      "Downloading dill-0.3.8-py3-none-any.whl (116 kB)\n",
      "Downloading fsspec-2025.3.0-py3-none-any.whl (193 kB)\n",
      "Downloading aiohttp-3.11.18-cp311-cp311-manylinux_2_17_x86_64.manylinux2014_x86_64.whl (1.7 MB)\n",
      "\u001b[2K   \u001b[38;2;114;156;31m━━━━━━━━━━━━━━━━━━━━━━━━━━━━━━━━━━━━━━━━\u001b[0m \u001b[32m1.7/1.7 MB\u001b[0m \u001b[31m4.5 MB/s\u001b[0m eta \u001b[36m0:00:00\u001b[0m[31m8.9 MB/s\u001b[0m eta \u001b[36m0:00:01\u001b[0m\n",
      "\u001b[?25hDownloading multiprocess-0.70.16-py311-none-any.whl (143 kB)\n",
      "Downloading pyarrow-20.0.0-cp311-cp311-manylinux_2_28_x86_64.whl (42.3 MB)\n",
      "\u001b[2K   \u001b[38;2;114;156;31m━━━━━━━━━━━━━━━━━━━━━━━━━━━━━━━━━━━━━━━━\u001b[0m \u001b[32m42.3/42.3 MB\u001b[0m \u001b[31m11.9 MB/s\u001b[0m eta \u001b[36m0:00:00\u001b[0mm eta \u001b[36m0:00:01\u001b[0m[36m0:00:01\u001b[0m\n",
      "\u001b[?25hDownloading xxhash-3.5.0-cp311-cp311-manylinux_2_17_x86_64.manylinux2014_x86_64.whl (194 kB)\n",
      "Using cached aiohappyeyeballs-2.6.1-py3-none-any.whl (15 kB)\n",
      "Using cached aiosignal-1.3.2-py2.py3-none-any.whl (7.6 kB)\n",
      "Using cached attrs-25.3.0-py3-none-any.whl (63 kB)\n",
      "Downloading frozenlist-1.6.0-cp311-cp311-manylinux_2_5_x86_64.manylinux1_x86_64.manylinux_2_17_x86_64.manylinux2014_x86_64.whl (313 kB)\n",
      "Downloading multidict-6.4.3-cp311-cp311-manylinux_2_17_x86_64.manylinux2014_x86_64.whl (223 kB)\n",
      "Using cached propcache-0.3.1-cp311-cp311-manylinux_2_17_x86_64.manylinux2014_x86_64.whl (232 kB)\n",
      "Downloading yarl-1.20.0-cp311-cp311-manylinux_2_17_x86_64.manylinux2014_x86_64.whl (358 kB)\n",
      "Installing collected packages: xxhash, pyarrow, propcache, multidict, fsspec, frozenlist, dill, attrs, aiohappyeyeballs, yarl, multiprocess, aiosignal, aiohttp, datasets\n",
      "  Attempting uninstall: fsspec\n",
      "    Found existing installation: fsspec 2025.3.2\n",
      "    Uninstalling fsspec-2025.3.2:\n",
      "      Successfully uninstalled fsspec-2025.3.2\n",
      "Successfully installed aiohappyeyeballs-2.6.1 aiohttp-3.11.18 aiosignal-1.3.2 attrs-25.3.0 datasets-3.5.1 dill-0.3.8 frozenlist-1.6.0 fsspec-2025.3.0 multidict-6.4.3 multiprocess-0.70.16 propcache-0.3.1 pyarrow-20.0.0 xxhash-3.5.0 yarl-1.20.0\n",
      "Note: you may need to restart the kernel to use updated packages.\n"
     ]
    }
   ],
   "source": [
    "pip install datasets"
   ]
  },
  {
   "cell_type": "code",
   "execution_count": 13,
   "id": "14a55852",
   "metadata": {},
   "outputs": [],
   "source": [
    "from transformers import AutoModelForObjectDetection,AutoImageProcessor\n",
    "from PIL import Image, ImageDraw\n",
    "\n",
    "import pandas as pd\n",
    "import torch\n",
    "import cv2 as cv\n",
    "import numpy as np\n",
    "import shutil\n",
    "import os\n",
    "import json\n"
   ]
  },
  {
   "cell_type": "code",
   "execution_count": null,
   "id": "4453d288",
   "metadata": {},
   "outputs": [],
   "source": [
    "image_processor = AutoImageProcessor.from_pretrained(\"hustvl/yolos-base\")\n",
    "model = AutoModelForObjectDetection.from_pretrained(\"hustvl/yolos-base\")"
   ]
  },
  {
   "cell_type": "code",
   "execution_count": null,
   "id": "4028161d",
   "metadata": {},
   "outputs": [],
   "source": [
    "img = Image.open(\"tomo_00e463/slice_0235.jpg\")\n",
    "test_img=image_processor(images=img, return_tensors=\"pt\")\n"
   ]
  },
  {
   "cell_type": "code",
   "execution_count": null,
   "id": "5b4ddefb",
   "metadata": {},
   "outputs": [],
   "source": [
    "img"
   ]
  },
  {
   "cell_type": "code",
   "execution_count": null,
   "id": "ed102edb",
   "metadata": {},
   "outputs": [],
   "source": [
    "\n",
    "outputs = model(**test_img)\n",
    "#model.bbox_predictor(**test_img)"
   ]
  },
  {
   "cell_type": "code",
   "execution_count": null,
   "id": "c98dee89",
   "metadata": {},
   "outputs": [],
   "source": [
    "target_sizes = torch.tensor([img.size[::-1]])\n",
    "\n",
    "results = image_processor.post_process_object_detection(outputs, threshold=0.9, target_sizes=target_sizes)[\n",
    "\n",
    "    0\n",
    "\n",
    "]"
   ]
  },
  {
   "cell_type": "code",
   "execution_count": null,
   "id": "6cdcfcf3",
   "metadata": {},
   "outputs": [],
   "source": [
    "from transformers import YolosFeatureExtractor, YolosForObjectDetection\n",
    "\n",
    "grayscale_image = Image.open(\"tomo_00e463/slice_0235.jpg\").convert(\"L\")\n",
    "\n",
    "# Convert to RGB\n",
    "rgb_image = Image.merge(\"RGB\", (grayscale_image, grayscale_image, grayscale_image))\n",
    "\n",
    "# Save the RGB image\n",
    "rgb_image.save(\"rgb_test_img.jpg\")\n",
    "img = Image.open(\"rgb_test_img.jpg\")\n",
    "\n",
    "feature_extractor = YolosFeatureExtractor.from_pretrained('hustvl/yolos-base')\n",
    "model = YolosForObjectDetection.from_pretrained('hustvl/yolos-base')\n",
    "\n",
    "inputs = feature_extractor(images=img, return_tensors=\"pt\")\n",
    "outputs = model(**inputs)"
   ]
  },
  {
   "cell_type": "code",
   "execution_count": null,
   "id": "3867e8ec",
   "metadata": {},
   "outputs": [],
   "source": [
    "logits = outputs.logits\n",
    "bboxes = outputs.pred_boxes"
   ]
  },
  {
   "cell_type": "code",
   "execution_count": null,
   "id": "e8b100a7",
   "metadata": {},
   "outputs": [],
   "source": [
    "bboxes"
   ]
  },
  {
   "cell_type": "code",
   "execution_count": null,
   "id": "8db94aa0",
   "metadata": {},
   "outputs": [],
   "source": [
    "target_sizes = torch.tensor([[img.size[1], img.size[0]]])\n",
    "results = image_processor.post_process_object_detection(outputs, threshold=0.005, target_sizes=target_sizes)[0]\n"
   ]
  },
  {
   "cell_type": "code",
   "execution_count": null,
   "id": "22515039",
   "metadata": {},
   "outputs": [],
   "source": [
    "results"
   ]
  },
  {
   "cell_type": "code",
   "execution_count": null,
   "id": "b35521de",
   "metadata": {},
   "outputs": [],
   "source": [
    "for score, label, box in zip(results[\"scores\"], results[\"labels\"], results[\"boxes\"]):\n",
    "\n",
    "    box = [round(i, 2) for i in box.tolist()]\n",
    "\n",
    "    print(\n",
    "\n",
    "        f\"Detected {model.config.id2label[label.item()]} with confidence \"\n",
    "\n",
    "        f\"{round(score.item(), 3)} at location {box}\"\n",
    "\n",
    "    )"
   ]
  },
  {
   "cell_type": "code",
   "execution_count": null,
   "id": "047a8756",
   "metadata": {},
   "outputs": [],
   "source": [
    "draw = ImageDraw.Draw(img)\n",
    "\n",
    "for score, label, box in zip(results[\"scores\"], results[\"labels\"], results[\"boxes\"]):\n",
    "\n",
    "    box = [round(i, 2) for i in box.tolist()]\n",
    "\n",
    "    x, y, x2, y2 = tuple(box)\n",
    "\n",
    "    draw.rectangle((x, y, x2, y2), outline=\"red\", width=1)\n",
    "\n",
    "    draw.text((x, y), model.config.id2label[label.item()], fill=\"white\")\n",
    "\n",
    "img"
   ]
  },
  {
   "cell_type": "markdown",
   "id": "48aa7cec",
   "metadata": {},
   "source": [
    "---\n",
    "## Fine Tune/ Transfer Modell"
   ]
  },
  {
   "cell_type": "code",
   "execution_count": 3,
   "id": "0a183dfb",
   "metadata": {},
   "outputs": [],
   "source": [
    "df=pd.read_csv(\"train_labels.csv\")"
   ]
  },
  {
   "cell_type": "code",
   "execution_count": 18,
   "id": "37df1f87",
   "metadata": {},
   "outputs": [
    {
     "data": {
      "text/html": [
       "<div>\n",
       "<style scoped>\n",
       "    .dataframe tbody tr th:only-of-type {\n",
       "        vertical-align: middle;\n",
       "    }\n",
       "\n",
       "    .dataframe tbody tr th {\n",
       "        vertical-align: top;\n",
       "    }\n",
       "\n",
       "    .dataframe thead th {\n",
       "        text-align: right;\n",
       "    }\n",
       "</style>\n",
       "<table border=\"1\" class=\"dataframe\">\n",
       "  <thead>\n",
       "    <tr style=\"text-align: right;\">\n",
       "      <th></th>\n",
       "      <th>row_id</th>\n",
       "      <th>tomo_id</th>\n",
       "      <th>Motor axis 0</th>\n",
       "      <th>Motor axis 1</th>\n",
       "      <th>Motor axis 2</th>\n",
       "      <th>Array shape (axis 0)</th>\n",
       "      <th>Array shape (axis 1)</th>\n",
       "      <th>Array shape (axis 2)</th>\n",
       "      <th>Voxel spacing</th>\n",
       "      <th>Number of motors</th>\n",
       "    </tr>\n",
       "  </thead>\n",
       "  <tbody>\n",
       "    <tr>\n",
       "      <th>0</th>\n",
       "      <td>0</td>\n",
       "      <td>tomo_003acc</td>\n",
       "      <td>-1.0</td>\n",
       "      <td>-1.0</td>\n",
       "      <td>-1.0</td>\n",
       "      <td>500</td>\n",
       "      <td>1912</td>\n",
       "      <td>1847</td>\n",
       "      <td>6.5</td>\n",
       "      <td>0</td>\n",
       "    </tr>\n",
       "    <tr>\n",
       "      <th>1</th>\n",
       "      <td>1</td>\n",
       "      <td>tomo_00e047</td>\n",
       "      <td>169.0</td>\n",
       "      <td>546.0</td>\n",
       "      <td>603.0</td>\n",
       "      <td>300</td>\n",
       "      <td>959</td>\n",
       "      <td>928</td>\n",
       "      <td>15.6</td>\n",
       "      <td>1</td>\n",
       "    </tr>\n",
       "  </tbody>\n",
       "</table>\n",
       "</div>"
      ],
      "text/plain": [
       "   row_id      tomo_id  Motor axis 0  Motor axis 1  Motor axis 2  \\\n",
       "0       0  tomo_003acc          -1.0          -1.0          -1.0   \n",
       "1       1  tomo_00e047         169.0         546.0         603.0   \n",
       "\n",
       "   Array shape (axis 0)  Array shape (axis 1)  Array shape (axis 2)  \\\n",
       "0                   500                  1912                  1847   \n",
       "1                   300                   959                   928   \n",
       "\n",
       "   Voxel spacing  Number of motors  \n",
       "0            6.5                 0  \n",
       "1           15.6                 1  "
      ]
     },
     "execution_count": 18,
     "metadata": {},
     "output_type": "execute_result"
    }
   ],
   "source": [
    "df.head(2)"
   ]
  },
  {
   "cell_type": "code",
   "execution_count": 40,
   "id": "b694065a",
   "metadata": {},
   "outputs": [
    {
     "data": {
      "text/plain": [
       "Voxel spacing\n",
       "13.1    291\n",
       "15.6    177\n",
       "19.7    104\n",
       "16.8     85\n",
       "16.1     40\n",
       "13.3     18\n",
       "19.3     10\n",
       "19.2      7\n",
       "6.5       3\n",
       "13.2      2\n",
       "Name: count, dtype: int64"
      ]
     },
     "execution_count": 40,
     "metadata": {},
     "output_type": "execute_result"
    }
   ],
   "source": [
    "df[\"Voxel spacing\"].value_counts()"
   ]
  },
  {
   "cell_type": "code",
   "execution_count": 33,
   "id": "d5eb561f",
   "metadata": {},
   "outputs": [
    {
     "name": "stdout",
     "output_type": "stream",
     "text": [
      "366     0.0\n",
      "291     3.0\n",
      "48     16.0\n",
      "656    21.0\n",
      "72     24.0\n",
      "Name: Motor axis 0, dtype: float64\n",
      "474    59.0\n",
      "694    64.0\n",
      "422    67.0\n",
      "584    72.0\n",
      "421    80.0\n",
      "Name: Motor axis 1, dtype: float64\n",
      "689    30.0\n",
      "380    41.0\n",
      "26     45.0\n",
      "25     54.0\n",
      "97     58.0\n",
      "Name: Motor axis 2, dtype: float64\n"
     ]
    }
   ],
   "source": [
    "print(df[df[\"Motor axis 0\"]!=-1][\"Motor axis 0\"].nsmallest(5))\n",
    "print(df[df[\"Motor axis 1\"]!=-1][\"Motor axis 1\"].nsmallest(5))\n",
    "print(df[df[\"Motor axis 2\"]!=-1][\"Motor axis 2\"].nsmallest(5))"
   ]
  },
  {
   "cell_type": "code",
   "execution_count": 12,
   "id": "7e4d423a",
   "metadata": {},
   "outputs": [
    {
     "name": "stdout",
     "output_type": "stream",
     "text": [
      "[500 300 600 800 400 494]\n",
      "[1912  959  924  960  928 1024  927  956]\n",
      "[1847  928  956  960 1440  959  924]\n"
     ]
    }
   ],
   "source": [
    "print(df[\"Array shape (axis 0)\"].unique())\n",
    "print(df[\"Array shape (axis 1)\"].unique())\n",
    "print(df[\"Array shape (axis 2)\"].unique())"
   ]
  },
  {
   "cell_type": "code",
   "execution_count": 9,
   "id": "93158731",
   "metadata": {},
   "outputs": [
    {
     "name": "stdout",
     "output_type": "stream",
     "text": [
      "663\n",
      "281\n"
     ]
    }
   ],
   "source": [
    "#print(len(df[df[\"Array shape (axis 1)\"]!=959]))\n",
    "print(len(df[df[\"Array shape (axis 1)\"]!=959]))\n",
    "print(len(df[df[\"Array shape (axis 2)\"]!=928]))"
   ]
  },
  {
   "cell_type": "code",
   "execution_count": 34,
   "id": "6d9bab4f",
   "metadata": {},
   "outputs": [
    {
     "name": "stdout",
     "output_type": "stream",
     "text": [
      "451\n",
      "451\n",
      "451\n"
     ]
    }
   ],
   "source": [
    "print(len(df[df[\"Motor axis 0\"]!=-1]))\n",
    "print(len(df[df[\"Motor axis 1\"]!=-1]))\n",
    "print(len(df[df[\"Motor axis 2\"]!=-1]))"
   ]
  },
  {
   "cell_type": "code",
   "execution_count": 39,
   "id": "7bdb6763",
   "metadata": {},
   "outputs": [
    {
     "name": "stdout",
     "output_type": "stream",
     "text": [
      "362\n",
      "362\n",
      "362\n"
     ]
    }
   ],
   "source": [
    "print(len(df[df[\"Motor axis 0\"]!=-1][\"tomo_id\"].unique()))\n",
    "print(len(df[df[\"Motor axis 1\"]!=-1][\"tomo_id\"].unique()))\n",
    "print(len(df[df[\"Motor axis 2\"]!=-1][\"tomo_id\"].unique()))"
   ]
  },
  {
   "cell_type": "code",
   "execution_count": 28,
   "id": "584e3909",
   "metadata": {},
   "outputs": [
    {
     "data": {
      "text/html": [
       "<div>\n",
       "<style scoped>\n",
       "    .dataframe tbody tr th:only-of-type {\n",
       "        vertical-align: middle;\n",
       "    }\n",
       "\n",
       "    .dataframe tbody tr th {\n",
       "        vertical-align: top;\n",
       "    }\n",
       "\n",
       "    .dataframe thead th {\n",
       "        text-align: right;\n",
       "    }\n",
       "</style>\n",
       "<table border=\"1\" class=\"dataframe\">\n",
       "  <thead>\n",
       "    <tr style=\"text-align: right;\">\n",
       "      <th></th>\n",
       "      <th>row_id</th>\n",
       "      <th>tomo_id</th>\n",
       "      <th>Motor axis 0</th>\n",
       "      <th>Motor axis 1</th>\n",
       "      <th>Motor axis 2</th>\n",
       "      <th>Array shape (axis 0)</th>\n",
       "      <th>Array shape (axis 1)</th>\n",
       "      <th>Array shape (axis 2)</th>\n",
       "      <th>Voxel spacing</th>\n",
       "      <th>Number of motors</th>\n",
       "    </tr>\n",
       "  </thead>\n",
       "  <tbody>\n",
       "    <tr>\n",
       "      <th>692</th>\n",
       "      <td>692</td>\n",
       "      <td>tomo_ec607b</td>\n",
       "      <td>466.0</td>\n",
       "      <td>458.0</td>\n",
       "      <td>301.0</td>\n",
       "      <td>500</td>\n",
       "      <td>928</td>\n",
       "      <td>960</td>\n",
       "      <td>13.1</td>\n",
       "      <td>2</td>\n",
       "    </tr>\n",
       "  </tbody>\n",
       "</table>\n",
       "</div>"
      ],
      "text/plain": [
       "     row_id      tomo_id  Motor axis 0  Motor axis 1  Motor axis 2  \\\n",
       "692     692  tomo_ec607b         466.0         458.0         301.0   \n",
       "\n",
       "     Array shape (axis 0)  Array shape (axis 1)  Array shape (axis 2)  \\\n",
       "692                   500                   928                   960   \n",
       "\n",
       "     Voxel spacing  Number of motors  \n",
       "692           13.1                 2  "
      ]
     },
     "execution_count": 28,
     "metadata": {},
     "output_type": "execute_result"
    }
   ],
   "source": [
    "df[df[\"Motor axis 0\"]==466]"
   ]
  },
  {
   "cell_type": "code",
   "execution_count": 23,
   "id": "793526c0",
   "metadata": {},
   "outputs": [
    {
     "data": {
      "text/plain": [
       "np.float64(30.0)"
      ]
     },
     "execution_count": 23,
     "metadata": {},
     "output_type": "execute_result"
    }
   ],
   "source": [
    "df[df[\"Motor axis 2\"]!=-1][\"Motor axis 2\"].min()"
   ]
  },
  {
   "cell_type": "code",
   "execution_count": 4,
   "id": "2adb14b0",
   "metadata": {},
   "outputs": [
    {
     "data": {
      "text/plain": [
       "array([['tomo_003acc', -1.0, -1.0, -1.0, 500],\n",
       "       ['tomo_00e047', 169.0, 546.0, 603.0, 300],\n",
       "       ['tomo_00e463', 235.0, 403.0, 137.0, 500],\n",
       "       ...,\n",
       "       ['tomo_fea6e8', -1.0, -1.0, -1.0, 300],\n",
       "       ['tomo_ff505c', 111.0, 816.0, 678.0, 300],\n",
       "       ['tomo_ff7c20', -1.0, -1.0, -1.0, 800]],\n",
       "      shape=(737, 5), dtype=object)"
      ]
     },
     "execution_count": 4,
     "metadata": {},
     "output_type": "execute_result"
    }
   ],
   "source": [
    "df_bbox=df.iloc[:,1:6]\n",
    "labels=df_bbox.values\n",
    "labels"
   ]
  },
  {
   "cell_type": "code",
   "execution_count": 37,
   "id": "96cc7413",
   "metadata": {},
   "outputs": [
    {
     "name": "stdout",
     "output_type": "stream",
     "text": [
      "4912\n",
      "portion of empty = 0.21164282190429207\n",
      "490\n"
     ]
    }
   ],
   "source": [
    "# Create YOLO format label\n",
    "# YOLO format: <class> <x_center> <y_center> <width> <height>\n",
    "# Values are normalized to [0, 1]\n",
    "# {\"file_name\": \"0001.png\", \"objects\": {\"bbox\": [[302.0, 109.0, 73.0, 52.0]], \"categories\": [0]}}\n",
    "BBOXS_SIZE = 70\n",
    "detections = []\n",
    "detections_empty = []\n",
    "trust = 4\n",
    "rng = np.random.default_rng(42)\n",
    "meta_train = []\n",
    "meta_test = []\n",
    "size_empty = 3\n",
    "\n",
    "for a in labels:\n",
    "    if a[1] != -1:\n",
    "        for b in np.arange(int(a[1])-trust, int(a[1])+trust+1):\n",
    "            if b < 0:\n",
    "                continue\n",
    "            width = BBOXS_SIZE\n",
    "            height = BBOXS_SIZE\n",
    "            if BBOXS_SIZE/2 > a[-2]:\n",
    "                width = (a[-2])*2\n",
    "            if BBOXS_SIZE/2 > a[2]:\n",
    "                height = (a[2]-1)*2\n",
    "            detections.append({\"file_name\": f\"{a[0]}/slice_{b:04d}.jpg\", \"object\": {\n",
    "                              \"bbox\": [0, a[-2], a[2], width, height], \"categories\": [0]}})\n",
    "    else:\n",
    "        random_slice = rng.integers(low=0, high=a[-1], size=size_empty)\n",
    "\n",
    "        for c in random_slice:\n",
    "            detections_empty.append(\n",
    "                {\"file_name\": f\"{a[0]}/slice_{c:04d}.jpg\", \"object\": {\"bbox\": [], \"categories\": []}})\n",
    "\n",
    "print(len(detections_empty+detections))\n",
    "\n",
    "print(f\"portion of empty = {len(detections_empty)/len(detections)}\")\n",
    "\n",
    "# collect train metadata.jason\n",
    "for i in detections:\n",
    "    if i[\"object\"][\"bbox\"][1] >= 0:\n",
    "        source = \"train/\"+i[\"file_name\"]\n",
    "        destination = \"data/train/\"+i[\"file_name\"]\n",
    "\n",
    "        if not os.path.isdir(os.path.dirname(destination)):\n",
    "            os.mkdir(os.path.dirname(destination))\n",
    "\n",
    "        shutil.copyfile(source, destination)\n",
    "        meta_train.append(i)\n",
    "\n",
    "for i in detections_empty:\n",
    "\n",
    "    source = \"train/\"+i[\"file_name\"]\n",
    "    destination = \"data/train/\"+i[\"file_name\"]\n",
    "\n",
    "    if not os.path.isdir(os.path.dirname(destination)):\n",
    "        os.mkdir(os.path.dirname(destination))\n",
    "\n",
    "    shutil.copyfile(source, destination)\n",
    "    meta_train.append(i)\n",
    "\n",
    "\n",
    "# Train test split\n",
    "split = 0.1\n",
    "size_det = len(detections)\n",
    "size_empt = len(detections_empty)\n",
    "\n",
    "test_split_det = int(size_det*split)\n",
    "test_split_empt = int(size_empt*split)\n",
    "\n",
    "indices_test_det = rng.integers(low=0, high=size_det, size=test_split_det)\n",
    "indices_test_empt = rng.integers(low=0, high=size_empt, size=test_split_empt)\n",
    "\n",
    "\n",
    "# copy test files\n",
    "\n",
    "\n",
    "for i in indices_test_det:\n",
    "    if detections[i][\"object\"][\"bbox\"][1] >= 0:\n",
    "        source = \"train/\"+detections[i][\"file_name\"]\n",
    "        destination = \"data/test/\"+detections[i][\"file_name\"]\n",
    "\n",
    "        if not os.path.isdir(os.path.dirname(destination)):\n",
    "            os.mkdir(os.path.dirname(destination))\n",
    "\n",
    "        shutil.copyfile(source, destination)\n",
    "        meta_test.append(detections[i])\n",
    "\n",
    "\n",
    "for i in indices_test_empt:\n",
    "\n",
    "    source = \"train/\"+detections_empty[i][\"file_name\"]\n",
    "    destination = \"data/test/\"+detections_empty[i][\"file_name\"]\n",
    "\n",
    "    if not os.path.isdir(os.path.dirname(destination)):\n",
    "        os.mkdir(os.path.dirname(destination))\n",
    "\n",
    "    shutil.copyfile(source, destination)\n",
    "    meta_test.append(detections_empty[i])\n",
    "\n",
    "\n",
    "# write to jason for hugginface\n",
    "\n",
    "with open(\"data/train/metadata.json\", \"w\") as outfile:\n",
    "    json.dump(meta_train, outfile)\n",
    "\n",
    "\n",
    "with open(\"data/test/metadata.json\", \"w\") as outfile:\n",
    "    json.dump(meta_test, outfile)\n",
    "\n",
    "\n",
    "# Create YAML configuration file for YOLO\n",
    "\"\"\"yaml_content = {\n",
    "    'path': yolo_dataset_dir,\n",
    "    'train': 'images/train',\n",
    "    'val': 'images/val',\n",
    "    'names': {0: 'motor'}\n",
    "}\"\"\"\n",
    "print(len(indices_test_det)+len(indices_test_empt))\n"
   ]
  },
  {
   "cell_type": "code",
   "execution_count": null,
   "id": "6350b69d",
   "metadata": {},
   "outputs": [],
   "source": []
  },
  {
   "cell_type": "code",
   "execution_count": 46,
   "id": "eec3c4ab",
   "metadata": {},
   "outputs": [],
   "source": [
    "from datasets import load_dataset\n",
    "dataset=[]\n",
    "# Load dataset\n",
    "dataset = load_dataset(\"imagefolder\", data_dir=\"data/\")\n",
    "\n",
    "#id2label = {0: \"motor\"}"
   ]
  },
  {
   "cell_type": "code",
   "execution_count": 47,
   "id": "52c0dfd5",
   "metadata": {},
   "outputs": [],
   "source": [
    "if \"validation\" not in dataset:\n",
    "\n",
    "    split = dataset[\"train\"].train_test_split(0.075, seed=1337)\n",
    "\n",
    "    dataset[\"train\"] = split[\"train\"]\n",
    "\n",
    "    dataset[\"validation\"] = split[\"test\"]"
   ]
  },
  {
   "cell_type": "code",
   "execution_count": 52,
   "id": "2e5407ce",
   "metadata": {},
   "outputs": [
    {
     "data": {
      "text/plain": [
       "DatasetDict({\n",
       "    train: Dataset({\n",
       "        features: ['image', 'label'],\n",
       "        num_rows: 4386\n",
       "    })\n",
       "    test: Dataset({\n",
       "        features: ['image', 'label'],\n",
       "        num_rows: 462\n",
       "    })\n",
       "    validation: Dataset({\n",
       "        features: ['image', 'label'],\n",
       "        num_rows: 356\n",
       "    })\n",
       "})"
      ]
     },
     "execution_count": 52,
     "metadata": {},
     "output_type": "execute_result"
    }
   ],
   "source": [
    "dataset"
   ]
  },
  {
   "cell_type": "code",
   "execution_count": 56,
   "id": "69d8d3de",
   "metadata": {},
   "outputs": [
    {
     "data": {
      "text/plain": [
       "{'image': <PIL.JpegImagePlugin.JpegImageFile image mode=L size=928x959>,\n",
       " 'label': 433}"
      ]
     },
     "execution_count": 56,
     "metadata": {},
     "output_type": "execute_result"
    }
   ],
   "source": [
    "dataset[\"train\"][0]"
   ]
  },
  {
   "cell_type": "code",
   "execution_count": 57,
   "id": "f0e37816",
   "metadata": {},
   "outputs": [
    {
     "data": {
      "text/plain": [
       "{'image': <PIL.JpegImagePlugin.JpegImageFile image mode=L size=928x960>,\n",
       " 'label': 262}"
      ]
     },
     "execution_count": 57,
     "metadata": {},
     "output_type": "execute_result"
    }
   ],
   "source": [
    "dataset[\"train\"][1]"
   ]
  },
  {
   "cell_type": "code",
   "execution_count": null,
   "id": "f8f8b6a6",
   "metadata": {},
   "outputs": [],
   "source": [
    "\n",
    "MAX_SIZE = IMAGE_SIZE\n",
    "\n",
    "image_processor = AutoImageProcessor.from_pretrained(\n",
    "\n",
    "    \"hustvl/yolos-base\",\n",
    "\n",
    "    do_resize=True,\n",
    "\n",
    "    size={\"max_height\": MAX_SIZE, \"max_width\": MAX_SIZE},\n",
    "\n",
    "    do_pad=True,\n",
    "\n",
    "    pad_size={\"height\": MAX_SIZE, \"width\": MAX_SIZE},\n",
    "\n",
    ")\n"
   ]
  }
 ],
 "metadata": {
  "kernelspec": {
   "display_name": ".venv",
   "language": "python",
   "name": "python3"
  },
  "language_info": {
   "codemirror_mode": {
    "name": "ipython",
    "version": 3
   },
   "file_extension": ".py",
   "mimetype": "text/x-python",
   "name": "python",
   "nbconvert_exporter": "python",
   "pygments_lexer": "ipython3",
   "version": "3.11.3"
  }
 },
 "nbformat": 4,
 "nbformat_minor": 5
}
